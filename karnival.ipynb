{
 "cells": [
  {
   "cell_type": "markdown",
   "metadata": {},
   "source": [
    "Music Festival expenses: Karnival @ Melbourne edition"
   ]
  },
  {
   "cell_type": "code",
   "execution_count": 19,
   "metadata": {},
   "outputs": [],
   "source": [
    "def sum_ticket_cost(online,hardcopies):\n",
    "    return (online*145) + (hardcopies*165)\n"
   ]
  },
  {
   "cell_type": "code",
   "execution_count": 27,
   "metadata": {},
   "outputs": [],
   "source": [
    "def sum_travel_cost(transport,no_ppl):\n",
    "    if transport == \"Myki\":\n",
    "        return 9.2*no_ppl\n",
    "    if transport == \"Uber\":\n",
    "        return 28*no_ppl\n",
    "    if transport == \"Didi\":\n",
    "        return 24*no_ppl"
   ]
  },
  {
   "cell_type": "code",
   "execution_count": 33,
   "metadata": {},
   "outputs": [],
   "source": [
    "def merch_cost(tshirts,fans,bandanas,hoodies):\n",
    "    return (tshirts*60)+(fans*30)+(bandanas*20)+(hoodies*80)"
   ]
  },
  {
   "cell_type": "code",
   "execution_count": 28,
   "metadata": {},
   "outputs": [],
   "source": [
    "def sum_trip_cost(online,hardcopies,transport,no_ppl,tshirts,fans,bandanas,hoodies):\n",
    "    print(sum_ticket_cost(online,hardcopies)+merch_cost(tshirts,fans,bandanas,hoodies)+sum_travel_cost(transport,no_ppl))"
   ]
  },
  {
   "cell_type": "code",
   "execution_count": 29,
   "metadata": {},
   "outputs": [
    {
     "name": "stdout",
     "output_type": "stream",
     "text": [
      "1593\n"
     ]
    }
   ],
   "source": [
    "sum_trip_cost(4,3,\"Uber\",6,2,1,2,2)"
   ]
  }
 ],
 "metadata": {
  "interpreter": {
   "hash": "913a0ba13bb9555192d15a27c17ad6ba20459d24a4b2fd94543b2be4cdffe139"
  },
  "kernelspec": {
   "display_name": "Python 3.9.7 ('base')",
   "language": "python",
   "name": "python3"
  },
  "language_info": {
   "codemirror_mode": {
    "name": "ipython",
    "version": 3
   },
   "file_extension": ".py",
   "mimetype": "text/x-python",
   "name": "python",
   "nbconvert_exporter": "python",
   "pygments_lexer": "ipython3",
   "version": "3.9.7"
  },
  "orig_nbformat": 4
 },
 "nbformat": 4,
 "nbformat_minor": 2
}
